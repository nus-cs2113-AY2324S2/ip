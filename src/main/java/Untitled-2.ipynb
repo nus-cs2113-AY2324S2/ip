{
 "cells": [
  {
   "cell_type": "code",
   "execution_count": null,
   "metadata": {},
   "outputs": [],
   "source": [
    "#regression tree MSE\n",
    "\n",
    "from sklearn.tree import DecisionTreeRegressor\n",
    "import numpy as np\n",
    "\n",
    "# Input data\n",
    "data = np.array([[0.5, 0.19], [0.6, 0.23], [1, 0.28], [2, ], [3.7, 9.1], [4.1, 9.5],\n",
    "                 [4.5, 9.8], [5.1, 12.7], [6.3, 13.8], [7.4, 15.9]])\n",
    "\n",
    "# Separate features (x) and target variable (y)\n",
    "X = data[:, 0].reshape(-1, 1)\n",
    "y = data[:, 1]\n",
    "\n",
    "# Decision threshold\n",
    "threshold = 3\n",
    "\n",
    "# Create a decision tree regressor with a maximum depth of 1 and the specified threshold\n",
    "tree = DecisionTreeRegressor(max_depth=1)\n",
    "\n",
    "# Fit the model\n",
    "tree.fit(X, y)\n",
    "\n",
    "# Predictions at depth 1\n",
    "predictions = tree.predict(X)\n",
    "\n",
    "# Identify which leaf node each data point falls into based on the threshold\n",
    "leaf_indices = tree.apply(X)\n",
    "\n",
    "# Calculate squared differences between predictions and actual values for each data point\n",
    "squared_diff = (predictions - y)**2\n",
    "\n",
    "# Calculate MSE at depth 1 by taking the mean of squared differences\n",
    "mse_depth_1 = np.mean(squared_diff)\n",
    "\n",
    "# Calculate MSE at the root\n",
    "mse_root = np.mean((y - np.mean(y))**2)\n",
    "\n",
    "# Calculate MSE for each leaf node\n",
    "mse_per_node = [np.mean(squared_diff[leaf_indices == i]) for i in np.unique(leaf_indices)]\n",
    "\n",
    "print(\"Decision Threshold for x:\", threshold)\n",
    "print(\"Squared Differences for each data point:\", [round(diff, 3) for diff in squared_diff])\n",
    "print(\"MSE at depth 1:\", mse_depth_1)\n",
    "print(\"MSE at the root:\", mse_root)\n",
    "print(\"MSE for each leaf node:\", [mse for mse in mse_per_node])\n"
   ]
  },
  {
   "cell_type": "code",
   "execution_count": null,
   "metadata": {},
   "outputs": [],
   "source": []
  }
 ],
 "metadata": {
  "language_info": {
   "name": "python"
  }
 },
 "nbformat": 4,
 "nbformat_minor": 2
}
